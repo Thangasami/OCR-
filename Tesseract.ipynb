{
 "cells": [
  {
   "cell_type": "markdown",
   "metadata": {},
   "source": [
    "Read Text From Images\n",
    "\n",
    "Libraries - Opencv, pytesseract\n",
    "\n",
    "install tesseract -ocr exe file - need to install before pytesseract\n",
    "\n",
    "\n",
    "Tesseract Path\n",
    "\n",
    "C:\\Program Files\\Tesseract-OCR"
   ]
  },
  {
   "cell_type": "code",
   "execution_count": 1,
   "metadata": {},
   "outputs": [
    {
     "name": "stdout",
     "output_type": "stream",
     "text": [
      "Collecting pytesseract\n",
      "  Downloading pytesseract-0.3.8.tar.gz (14 kB)\n",
      "Requirement already satisfied: Pillow in c:\\programdata\\anaconda3\\lib\\site-packages (from pytesseract) (7.2.0)\n",
      "Building wheels for collected packages: pytesseract\n",
      "  Building wheel for pytesseract (setup.py): started\n",
      "  Building wheel for pytesseract (setup.py): finished with status 'done'\n",
      "  Created wheel for pytesseract: filename=pytesseract-0.3.8-py2.py3-none-any.whl size=14065 sha256=b78fa7223875a4ee26ae26fc5bb1de74faf7bbafcac814e5baf8f45f60f7aff0\n",
      "  Stored in directory: c:\\users\\sthan\\appdata\\local\\pip\\cache\\wheels\\ed\\8a\\c6\\40c7ec06c2dd3df636832537238128a1471bf9c1b6a3a9bf40\n",
      "Successfully built pytesseract\n",
      "Installing collected packages: pytesseract\n",
      "Successfully installed pytesseract-0.3.8\n"
     ]
    }
   ],
   "source": [
    "!pip install pytesseract"
   ]
  },
  {
   "cell_type": "code",
   "execution_count": 1,
   "metadata": {},
   "outputs": [],
   "source": [
    "import pytesseract\n",
    "pytesseract.pytesseract.tesseract_cmd=r'C:\\\\Program Files\\\\Tesseract-OCR\\\\tesseract.exe'"
   ]
  },
  {
   "cell_type": "code",
   "execution_count": 2,
   "metadata": {},
   "outputs": [],
   "source": [
    "import cv2"
   ]
  },
  {
   "cell_type": "code",
   "execution_count": 22,
   "metadata": {},
   "outputs": [],
   "source": [
    "img1 = cv2.imread('rh.png')\n",
    "cv2.imshow('sample',img1)\n",
    "cv2.waitKey(0)\n",
    "cv2.destroyAllWindows()"
   ]
  },
  {
   "cell_type": "code",
   "execution_count": 23,
   "metadata": {},
   "outputs": [
    {
     "name": "stdout",
     "output_type": "stream",
     "text": [
      "Your order | sscapeor nde ssa\n",
      "has been\n",
      "placed.\n",
      "Boones Total: $94.49\n",
      "\n",
      "Shipping to:\n",
      "\f",
      "\n"
     ]
    }
   ],
   "source": [
    "text1 = pytesseract.image_to_string(img1)\n",
    "print(text1)"
   ]
  },
  {
   "cell_type": "code",
   "execution_count": 10,
   "metadata": {},
   "outputs": [],
   "source": [
    "img2 = cv2.imread('2.jpg')\n",
    "cv2.imshow('sample',img2)\n",
    "cv2.waitKey(0)\n",
    "cv2.destroyAllWindows()"
   ]
  },
  {
   "cell_type": "code",
   "execution_count": 11,
   "metadata": {
    "scrolled": true
   },
   "outputs": [
    {
     "name": "stdout",
     "output_type": "stream",
     "text": [
      "aa\n",
      "\n",
      " \n",
      "\n",
      "ACC NO : 113357\n",
      "SUBRAMANTYA BHARA\n",
      "\n",
      "» fe\n",
      "\n",
      "tL\n",
      "\n",
      "ne)\n",
      "\n",
      " \n",
      "\n",
      " \n",
      "\n",
      " \n",
      "\n",
      " \n",
      "\f",
      "\n"
     ]
    }
   ],
   "source": [
    "text2 = pytesseract.image_to_string(img2)\n",
    "print(text)"
   ]
  },
  {
   "cell_type": "code",
   "execution_count": 18,
   "metadata": {},
   "outputs": [
    {
     "name": "stdout",
     "output_type": "stream",
     "text": [
      " \n",
      "\n",
      "ee €\n",
      "\n",
      "Br Fe a ie ay all acl Sad Sa MO Mem, jo\n",
      "\n",
      " \n",
      "\n",
      "FHSTS MOT QUWINT\n",
      "\n",
      "| paeurh SHIVAANT ACC NO: 113356\n",
      "|\n",
      "\n",
      "  \n",
      "\n",
      "P NO 332,SUBRAMANIYA BHARATHI PURAM,\n",
      "\n",
      "POLACHERY, es\n",
      "\n",
      "CHENNAI-600048, i ara\n",
      "\n",
      "> —-—\n",
      "\n",
      " \n",
      "\n",
      "Sms .\n",
      "\n",
      "jeneo ‘stam. ets ( Sign) Gunma\n",
      "\n",
      "        \n",
      "\n",
      "   \n",
      "\n",
      " \n",
      "\n",
      "   \n",
      "\n",
      "1-281 25 12-202\n",
      "\n",
      "80728\n",
      "\f",
      "\n"
     ]
    }
   ],
   "source": [
    "img3 = cv2.imread('3.jpg')\n",
    "text3 = pytesseract.image_to_string(img3)\n",
    "print(text3)"
   ]
  },
  {
   "cell_type": "code",
   "execution_count": 9,
   "metadata": {},
   "outputs": [
    {
     "name": "stdout",
     "output_type": "stream",
     "text": [
      "level\tpage_num\tblock_num\tpar_num\tline_num\tword_num\tleft\ttop\twidth\theight\tconf\ttext\n",
      "1\t1\t0\t0\t0\t0\t0\t0\t453\t640\t-1\t\n",
      "\n"
     ]
    }
   ],
   "source": [
    "a = pytesseract.image_to_data(img1)\n",
    "print(a)"
   ]
  },
  {
   "cell_type": "code",
   "execution_count": 19,
   "metadata": {},
   "outputs": [
    {
     "name": "stdout",
     "output_type": "stream",
     "text": [
      "‘DEAF MESDFREGAng\n",
      "\n",
      " \n",
      "\f",
      "\n"
     ]
    }
   ],
   "source": [
    "img3 = cv2.imread('5.jpg')\n",
    "text3 = pytesseract.image_to_string(img3)\n",
    "print(text3)"
   ]
  },
  {
   "cell_type": "code",
   "execution_count": null,
   "metadata": {},
   "outputs": [],
   "source": []
  }
 ],
 "metadata": {
  "kernelspec": {
   "display_name": "Python 3",
   "language": "python",
   "name": "python3"
  },
  "language_info": {
   "codemirror_mode": {
    "name": "ipython",
    "version": 3
   },
   "file_extension": ".py",
   "mimetype": "text/x-python",
   "name": "python",
   "nbconvert_exporter": "python",
   "pygments_lexer": "ipython3",
   "version": "3.8.3"
  }
 },
 "nbformat": 4,
 "nbformat_minor": 4
}
